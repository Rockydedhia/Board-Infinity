{
  "nbformat": 4,
  "nbformat_minor": 0,
  "metadata": {
    "colab": {
      "name": "my_second_notebook.ipynb",
      "provenance": [],
      "collapsed_sections": [],
      "include_colab_link": true
    },
    "kernelspec": {
      "name": "python3",
      "display_name": "Python 3"
    },
    "accelerator": "GPU"
  },
  "cells": [
    {
      "cell_type": "markdown",
      "metadata": {
        "id": "view-in-github",
        "colab_type": "text"
      },
      "source": [
        "<a href=\"https://colab.research.google.com/github/Rockydedhia/Board-Infinity/blob/master/my_second_notebook.ipynb\" target=\"_parent\"><img src=\"https://colab.research.google.com/assets/colab-badge.svg\" alt=\"Open In Colab\"/></a>"
      ]
    },
    {
      "cell_type": "markdown",
      "metadata": {
        "colab_type": "text",
        "id": "p8ID5bRAdLQ-"
      },
      "source": [
        "\n",
        "Introduction \n",
        "\n",
        "\n",
        "*   Hi this is Bhavin Dedhia. I am IT Graduate.\n",
        "*   I am Doing Master's in MSc.IT.\n",
        "*   I like sports Especially Cricket.\n",
        "*   Want to Start my Career in Startup Company.\n",
        "*   My passion is to travel the world.\n",
        "\n"
      ]
    },
    {
      "cell_type": "markdown",
      "metadata": {
        "id": "mWPSg2SGd6tP",
        "colab_type": "text"
      },
      "source": [
        "*   I have Enroll for Data Science Course because we get to learn new          things Every day.\n",
        "*   I like to do Predictions from Past data.\n"
      ]
    },
    {
      "cell_type": "code",
      "metadata": {
        "id": "TrJSxwbrfo5r",
        "colab_type": "code",
        "colab": {}
      },
      "source": [
        "# Strings\n",
        "\n",
        "firstname=\"Bhavin\"\n",
        "lastname=\"Dedhia\"\n",
        "cityname=\"Mumbai\""
      ],
      "execution_count": 0,
      "outputs": []
    },
    {
      "cell_type": "code",
      "metadata": {
        "id": "ikV-cD2sf5pt",
        "colab_type": "code",
        "colab": {}
      },
      "source": [
        "# Integers\n",
        "\n",
        "age=21\n",
        "height=170\n"
      ],
      "execution_count": 0,
      "outputs": []
    },
    {
      "cell_type": "code",
      "metadata": {
        "id": "Fv7-FsVxghD_",
        "colab_type": "code",
        "colab": {}
      },
      "source": [
        "# float \n",
        "\n",
        "tenth=75.60\n",
        "twelth=55.60\n"
      ],
      "execution_count": 0,
      "outputs": []
    },
    {
      "cell_type": "code",
      "metadata": {
        "id": "pT6LcEzwhLsT",
        "colab_type": "code",
        "colab": {}
      },
      "source": [
        "# list\n",
        "\n",
        "favourite_numbers=[84,68,14,41.20,12.90]\n",
        "\n",
        "my_friends=[\"Raj\",\"Mukesh\",\"Ankit\",\"Salman\",\"Parin\"]\n"
      ],
      "execution_count": 0,
      "outputs": []
    },
    {
      "cell_type": "code",
      "metadata": {
        "id": "Z6DGvuGmheg1",
        "colab_type": "code",
        "outputId": "467800ee-01ff-49d1-c71b-c194c5488536",
        "colab": {
          "base_uri": "https://localhost:8080/",
          "height": 35
        }
      },
      "source": [
        "my_friends[0]"
      ],
      "execution_count": 0,
      "outputs": [
        {
          "output_type": "execute_result",
          "data": {
            "text/plain": [
              "'Raj'"
            ]
          },
          "metadata": {
            "tags": []
          },
          "execution_count": 6
        }
      ]
    },
    {
      "cell_type": "code",
      "metadata": {
        "id": "7OmGy5f2LZ-0",
        "colab_type": "code",
        "colab": {
          "base_uri": "https://localhost:8080/",
          "height": 34
        },
        "outputId": "33dd094d-44ef-4829-f0c7-37e512fa7b88"
      },
      "source": [
        "favourite_numbers[1:3]"
      ],
      "execution_count": 7,
      "outputs": [
        {
          "output_type": "execute_result",
          "data": {
            "text/plain": [
              "[68, 14]"
            ]
          },
          "metadata": {
            "tags": []
          },
          "execution_count": 7
        }
      ]
    },
    {
      "cell_type": "code",
      "metadata": {
        "id": "MrCBFm4lh5Q4",
        "colab_type": "code",
        "colab": {}
      },
      "source": [
        "# Dictonary\n",
        "\n",
        "myself={\"date_of_birth\":\"11/6/1998\",\"favourite colour\":\"Blue\",\"age\":21,\"gender\":\"Male\",\"Name\":\"Bhavin\"}"
      ],
      "execution_count": 0,
      "outputs": []
    },
    {
      "cell_type": "code",
      "metadata": {
        "id": "6H8fHzfeisve",
        "colab_type": "code",
        "outputId": "4544e3bf-9d94-4a23-d0d7-a95cb299cf04",
        "colab": {
          "base_uri": "https://localhost:8080/",
          "height": 52
        }
      },
      "source": [
        "print(myself[\"date_of_birth\"])\n",
        "print(myself[\"gender\"])\n",
        "      "
      ],
      "execution_count": 14,
      "outputs": [
        {
          "output_type": "stream",
          "text": [
            "11/6/1998\n",
            "Male\n"
          ],
          "name": "stdout"
        }
      ]
    },
    {
      "cell_type": "code",
      "metadata": {
        "id": "RoS2kjdKi7Hl",
        "colab_type": "code",
        "colab": {}
      },
      "source": [
        "myself[\"vegetarian\"]=True\n",
        "myself[\"non-vegetarian\"]=False\n"
      ],
      "execution_count": 0,
      "outputs": []
    },
    {
      "cell_type": "code",
      "metadata": {
        "id": "n2ogVQPZ9HQc",
        "colab_type": "code",
        "outputId": "ca8bded9-2d18-4905-d6c1-20b320519100",
        "colab": {
          "base_uri": "https://localhost:8080/",
          "height": 140
        }
      },
      "source": [
        "myself"
      ],
      "execution_count": 0,
      "outputs": [
        {
          "output_type": "execute_result",
          "data": {
            "text/plain": [
              "{'Name': ['Bhavin'],\n",
              " 'age': [21],\n",
              " 'date_of_birth': [0.0009175842509175842],\n",
              " 'favourite colour': ['Blue'],\n",
              " 'gender': ['Male'],\n",
              " 'non-vegetarian': False,\n",
              " 'vegetarian': True}"
            ]
          },
          "metadata": {
            "tags": []
          },
          "execution_count": 39
        }
      ]
    },
    {
      "cell_type": "code",
      "metadata": {
        "id": "x2-JvbKX9yr4",
        "colab_type": "code",
        "colab": {}
      },
      "source": [
        ""
      ],
      "execution_count": 0,
      "outputs": []
    }
  ]
}