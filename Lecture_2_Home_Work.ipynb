{
  "nbformat": 4,
  "nbformat_minor": 0,
  "metadata": {
    "colab": {
      "name": "Lecture 2 Home Work.ipynb",
      "provenance": [],
      "collapsed_sections": [],
      "authorship_tag": "ABX9TyNDr0QWguEgiyBLul8xHKba",
      "include_colab_link": true
    },
    "kernelspec": {
      "name": "python3",
      "display_name": "Python 3"
    }
  },
  "cells": [
    {
      "cell_type": "markdown",
      "metadata": {
        "id": "view-in-github",
        "colab_type": "text"
      },
      "source": [
        "<a href=\"https://colab.research.google.com/github/Rockydedhia/Board-Infinity/blob/master/Lecture_2_Home_Work.ipynb\" target=\"_parent\"><img src=\"https://colab.research.google.com/assets/colab-badge.svg\" alt=\"Open In Colab\"/></a>"
      ]
    },
    {
      "cell_type": "code",
      "metadata": {
        "id": "Jqba6WFpYIUc",
        "colab_type": "code",
        "outputId": "475a4895-7a05-4945-a2b7-c98fec76463a",
        "colab": {
          "base_uri": "https://localhost:8080/",
          "height": 70
        }
      },
      "source": [
        "# If Else Age Program \n",
        "\n",
        "#1) Age Program\n",
        "\n",
        "age = int(input(\"Enter a Age: \\n\"))\n",
        "\n",
        "if age > 18:\n",
        "  print(\"Adult\")\n",
        "else:\n",
        "  print(\"teenager\")"
      ],
      "execution_count": 48,
      "outputs": [
        {
          "output_type": "stream",
          "text": [
            "Enter a Age: \n",
            "20\n",
            "Adult\n"
          ],
          "name": "stdout"
        }
      ]
    },
    {
      "cell_type": "code",
      "metadata": {
        "id": "Y7TeVd2tYxdW",
        "colab_type": "code",
        "outputId": "02003205-11a9-4302-cc14-ec9ea7275eec",
        "colab": {
          "base_uri": "https://localhost:8080/",
          "height": 105
        }
      },
      "source": [
        "# 2) Loan Approveing Proram\n",
        "\n",
        "\n",
        "loan=int(input(\"Enter a Monthly Income: \\n\"))\n",
        "\n",
        "on_going_loan=str(input(\"Enter On Going Loan: \\n\"))\n",
        "\n",
        "if loan > 100000:\n",
        "  if on_going_loan == \"yes\":\n",
        "    print(\"Sorry, NO loan for You\")\n",
        "  else:\n",
        "    print(\"Congrates loan Approved\")\n",
        "else:\n",
        "  print(\"Not Eligible for Loan\")\n"
      ],
      "execution_count": 49,
      "outputs": [
        {
          "output_type": "stream",
          "text": [
            "Enter a Monthly Income: \n",
            "15000000\n",
            "Enter On Going Loan: \n",
            "no\n",
            "Congrates loan Approved\n"
          ],
          "name": "stdout"
        }
      ]
    },
    {
      "cell_type": "code",
      "metadata": {
        "id": "20VCwn4Cab32",
        "colab_type": "code",
        "outputId": "c77940e9-b816-4b2a-9617-e1abeffe546a",
        "colab": {
          "base_uri": "https://localhost:8080/",
          "height": 70
        }
      },
      "source": [
        "# 3) Boy / Girl program\n",
        "\n",
        "user = str(input(\"Are You Female: \\n\"))\n",
        "\n",
        "if user == \"yes\":\n",
        "  print(\"You are Girl\")\n",
        "else:\n",
        "  print(\"You are Boy\")"
      ],
      "execution_count": 50,
      "outputs": [
        {
          "output_type": "stream",
          "text": [
            "Are You Female: \n",
            "no\n",
            "You are Boy\n"
          ],
          "name": "stdout"
        }
      ]
    },
    {
      "cell_type": "code",
      "metadata": {
        "id": "aDSGsCtCbVy0",
        "colab_type": "code",
        "outputId": "b653c784-d561-4ece-b73d-6459d9029647",
        "colab": {
          "base_uri": "https://localhost:8080/",
          "height": 210
        }
      },
      "source": [
        "# Loop\n",
        "\n",
        "#1) Random Number\n",
        "\n",
        "r = [1,4,7,9,3,2,4,9,7,3,5]\n",
        "\n",
        "for x in r:\n",
        "  print(x)"
      ],
      "execution_count": 51,
      "outputs": [
        {
          "output_type": "stream",
          "text": [
            "1\n",
            "4\n",
            "7\n",
            "9\n",
            "3\n",
            "2\n",
            "4\n",
            "9\n",
            "7\n",
            "3\n",
            "5\n"
          ],
          "name": "stdout"
        }
      ]
    },
    {
      "cell_type": "code",
      "metadata": {
        "id": "7iFwR5XQcWq5",
        "colab_type": "code",
        "outputId": "78e7c352-0c8d-4df4-8e52-e8567de0374c",
        "colab": {
          "base_uri": "https://localhost:8080/",
          "height": 105
        }
      },
      "source": [
        "# 2) Even Numbers\n",
        "\n",
        "even = [1,2,3,4,5,6,7,8,9]\n",
        "\n",
        "for x in even :\n",
        "  if x % 2 != 0:\n",
        "    print(x)\n"
      ],
      "execution_count": 52,
      "outputs": [
        {
          "output_type": "stream",
          "text": [
            "1\n",
            "3\n",
            "5\n",
            "7\n",
            "9\n"
          ],
          "name": "stdout"
        }
      ]
    },
    {
      "cell_type": "code",
      "metadata": {
        "id": "byLSBh2hcbhQ",
        "colab_type": "code",
        "outputId": "3e42cf97-dc29-4fa7-e940-0ec54046a18b",
        "colab": {
          "base_uri": "https://localhost:8080/",
          "height": 87
        }
      },
      "source": [
        "# Dictionary myself only keys\n",
        "\n",
        "\n",
        "myself = {\"name\":\"Bhavin\",\"age\":21,\"gender\":\"male\",\"favourite_food\":\"Pizza\"}\n",
        "\n",
        "\n",
        "for m in myself:\n",
        "  print(m) # Only Keys\n",
        "\n"
      ],
      "execution_count": 53,
      "outputs": [
        {
          "output_type": "stream",
          "text": [
            "name\n",
            "age\n",
            "gender\n",
            "favourite_food\n"
          ],
          "name": "stdout"
        }
      ]
    },
    {
      "cell_type": "code",
      "metadata": {
        "id": "R7FlpidjeXXL",
        "colab_type": "code",
        "outputId": "2b03232a-813b-47fe-ffb3-f63490f3ab6b",
        "colab": {
          "base_uri": "https://localhost:8080/",
          "height": 87
        }
      },
      "source": [
        "for x in myself:\n",
        "  print(myself[x]) # Only values"
      ],
      "execution_count": 54,
      "outputs": [
        {
          "output_type": "stream",
          "text": [
            "Bhavin\n",
            "21\n",
            "male\n",
            "Pizza\n"
          ],
          "name": "stdout"
        }
      ]
    },
    {
      "cell_type": "code",
      "metadata": {
        "id": "xYNVoqquc6Tz",
        "colab_type": "code",
        "outputId": "f1eb60d6-1874-477e-9a80-30563891f006",
        "colab": {
          "base_uri": "https://localhost:8080/",
          "height": 72
        }
      },
      "source": [
        "# Methods\n",
        "\n",
        "# 1) Person Name\n",
        "\n",
        "def pname(hi):\n",
        "  print(name)\n",
        "  \n",
        "name=input(\"Enter Your Name: - \")\n",
        "\n",
        "\n",
        "pname(name)"
      ],
      "execution_count": 55,
      "outputs": [
        {
          "output_type": "stream",
          "text": [
            "Enter Your Name: - Raj\n",
            "Raj\n"
          ],
          "name": "stdout"
        }
      ]
    },
    {
      "cell_type": "code",
      "metadata": {
        "id": "Hw9jdahfgu3a",
        "colab_type": "code",
        "colab": {}
      },
      "source": [
        "# 2) Dictionary as a input\n",
        "\n",
        "def dic(a):\n",
        "  d={}  # Empty Dictionary\n",
        "\n",
        "  a = int(input(\"How many Elements You Want? : \"))\n",
        "  for i in range (a):  # Giving Range\n",
        "    k=str(input(\"Enter Key : \" ))\n",
        "    v=str(input(\"Enter Value : \" ))\n",
        "    d.update({k:v})  # Storing in Dictionary\n",
        "  print(\"Dictionary \\n\",d)\n",
        "  for x in d:\n",
        "    print(d[x])  # Printing only Keys "
      ],
      "execution_count": 0,
      "outputs": []
    },
    {
      "cell_type": "code",
      "metadata": {
        "id": "AmTrxe1IOhnp",
        "colab_type": "code",
        "colab": {
          "base_uri": "https://localhost:8080/",
          "height": 248
        },
        "outputId": "2e62b8aa-1b03-4c24-c06e-b43d071d7678"
      },
      "source": [
        "dic(a)"
      ],
      "execution_count": 57,
      "outputs": [
        {
          "output_type": "stream",
          "text": [
            "How many Elements You Want? : 3\n",
            "Enter Key : Name\n",
            "Enter Value : Bhavin\n",
            "Enter Key : Gender\n",
            "Enter Value : Male\n",
            "Enter Key : Color\n",
            "Enter Value : Blue\n",
            "Dictionary \n",
            " {'Name': 'Bhavin', 'Gender': 'Male', 'Color': 'Blue'}\n",
            "Bhavin\n",
            "Male\n",
            "Blue\n"
          ],
          "name": "stdout"
        }
      ]
    },
    {
      "cell_type": "code",
      "metadata": {
        "id": "4FLOysJ4RpGm",
        "colab_type": "code",
        "colab": {}
      },
      "source": [
        "# function printing odd number\n",
        "def even(hi):\n",
        "  hi = list(map(int, input(\"Enter A random Number: \")))\n",
        "  print(hi)\n",
        "  for x in hi:\n",
        "    if x % 2 == 0:\n",
        "      print(x)"
      ],
      "execution_count": 0,
      "outputs": []
    },
    {
      "cell_type": "code",
      "metadata": {
        "id": "WV9XiX2rRqtI",
        "colab_type": "code",
        "colab": {
          "base_uri": "https://localhost:8080/",
          "height": 125
        },
        "outputId": "f128b2d0-2658-4976-ee81-ff6422b4b4b1"
      },
      "source": [
        "even(hi)"
      ],
      "execution_count": 67,
      "outputs": [
        {
          "output_type": "stream",
          "text": [
            "Enter A random Number: 154893657\n",
            "[1, 5, 4, 8, 9, 3, 6, 5, 7]\n",
            "4\n",
            "8\n",
            "6\n"
          ],
          "name": "stdout"
        }
      ]
    },
    {
      "cell_type": "code",
      "metadata": {
        "id": "NtoJSMXbFgww",
        "colab_type": "code",
        "colab": {}
      },
      "source": [
        "# Type convertion\n",
        "\n",
        "Name=\"Bhavin\"\n",
        "age=21\n",
        "Marks=76.40\n",
        "Male=True"
      ],
      "execution_count": 0,
      "outputs": []
    },
    {
      "cell_type": "code",
      "metadata": {
        "id": "2I5P_sQkLqbJ",
        "colab_type": "code",
        "colab": {}
      },
      "source": [
        "print(type(Name))\n",
        "print(type(age))\n",
        "print(type(Marks))\n",
        "print(type(Male))"
      ],
      "execution_count": 0,
      "outputs": []
    },
    {
      "cell_type": "code",
      "metadata": {
        "id": "WqdQVkwaLzWy",
        "colab_type": "code",
        "colab": {}
      },
      "source": [
        "# Integer To Float\n",
        "float(age)"
      ],
      "execution_count": 0,
      "outputs": []
    },
    {
      "cell_type": "code",
      "metadata": {
        "id": "5pmgo31xMKkv",
        "colab_type": "code",
        "colab": {}
      },
      "source": [
        "# integer to String\n",
        "str(age)"
      ],
      "execution_count": 0,
      "outputs": []
    },
    {
      "cell_type": "code",
      "metadata": {
        "id": "IbzkKAPJMRij",
        "colab_type": "code",
        "colab": {}
      },
      "source": [
        "# Boll to String\n",
        "\n",
        "str(Male)"
      ],
      "execution_count": 0,
      "outputs": []
    },
    {
      "cell_type": "code",
      "metadata": {
        "id": "A0y41VfWMcb5",
        "colab_type": "code",
        "colab": {}
      },
      "source": [
        "# Class Iheritance \n",
        "\n",
        "pip install scikit-learn"
      ],
      "execution_count": 0,
      "outputs": []
    },
    {
      "cell_type": "code",
      "metadata": {
        "id": "BGzrHwYdKK5p",
        "colab_type": "code",
        "colab": {}
      },
      "source": [
        "from sklearn.ensemble import RandomForestClassifier"
      ],
      "execution_count": 0,
      "outputs": []
    },
    {
      "cell_type": "code",
      "metadata": {
        "id": "yQQsxogMLTzJ",
        "colab_type": "code",
        "colab": {}
      },
      "source": [
        "from sklearn.naive_bayes import GaussianNB"
      ],
      "execution_count": 0,
      "outputs": []
    },
    {
      "cell_type": "code",
      "metadata": {
        "id": "R6DJC6q9L1m8",
        "colab_type": "code",
        "colab": {}
      },
      "source": [
        "from sklearn.tree import DecisionTreeClassifier\n"
      ],
      "execution_count": 0,
      "outputs": []
    },
    {
      "cell_type": "code",
      "metadata": {
        "id": "wE56N96JL5aU",
        "colab_type": "code",
        "colab": {}
      },
      "source": [
        "from sklearn.linear_model import LinearRegression"
      ],
      "execution_count": 0,
      "outputs": []
    },
    {
      "cell_type": "code",
      "metadata": {
        "id": "mwevKx-fMFUS",
        "colab_type": "code",
        "colab": {}
      },
      "source": [
        "from sklearn.cluster import KMeans"
      ],
      "execution_count": 0,
      "outputs": []
    },
    {
      "cell_type": "code",
      "metadata": {
        "id": "x_cJE1kmMWCG",
        "colab_type": "code",
        "colab": {}
      },
      "source": [
        "from sklearn.model_selection import train_test_split"
      ],
      "execution_count": 0,
      "outputs": []
    },
    {
      "cell_type": "code",
      "metadata": {
        "id": "S80AWyqeMge3",
        "colab_type": "code",
        "colab": {}
      },
      "source": [
        "from sklearn.metrics import classification_report"
      ],
      "execution_count": 0,
      "outputs": []
    },
    {
      "cell_type": "code",
      "metadata": {
        "id": "vNL-4YUJMq0j",
        "colab_type": "code",
        "colab": {}
      },
      "source": [
        "from sklearn.metrics import accuracy_score"
      ],
      "execution_count": 0,
      "outputs": []
    },
    {
      "cell_type": "code",
      "metadata": {
        "id": "I9gzpz-kMyc7",
        "colab_type": "code",
        "colab": {}
      },
      "source": [
        ""
      ],
      "execution_count": 0,
      "outputs": []
    }
  ]
}